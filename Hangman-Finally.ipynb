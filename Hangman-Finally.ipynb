{
 "cells": [
  {
   "cell_type": "code",
   "execution_count": 1,
   "metadata": {},
   "outputs": [],
   "source": [
    "import random\n",
    "#things on my desk:\n",
    "word_bank = ['pokeball', 'pumpkin', 'megaman', 'gundam', 'bobafett', 'lando', 'candle', 'monitor', 'keyboard', 'speaker', 'frustration']\n",
    "\n",
    "\n",
    "\n",
    "class Word:\n",
    "    def __init__(self, wordbank):\n",
    "        self.word = random.choice(wordbank)\n",
    "        self.board = ['_' for x in self.word]\n",
    "        \n",
    "     #checks a guess self.check_word(guess)\n",
    "    def check_word(self, guess):         \n",
    "        for i in range(len(self.word)):\n",
    "            if self.word[i] == guess:\n",
    "                self.board[i] = guess\n",
    "                if ''.join(self.board) == self.word:\n",
    "                    #print(\"Congratulations, you guessed the item on my desk!\")\n",
    "                    return True #returns boolean if game is over\n",
    "                           \n",
    "        return False\n",
    "                    \n",
    "            \n",
    "                           \n",
    "                \n",
    "    #print dashes/input only self                            \n",
    "    def display(self):\n",
    "         print(' '.join(self.board))\n",
    "            \n",
    "            \n",
    "class Game:\n",
    "    @classmethod\n",
    "    def show_instructions(self):\n",
    "        print(\"Guess a letter to find out what things clutter my desk! \")\n",
    "            \n",
    "    \n",
    "    @classmethod\n",
    "    def run(self): #use this to test code/ also tested code can go here\n",
    "        answer = Word(word_bank) #instantiate word from wordbank\n",
    "        done = False\n",
    "        tries = 7\n",
    "        while tries > 0:\n",
    "            answer.display() #displays board first\n",
    "            guess = input(\"Guess a letter! \")\n",
    "            if answer.check_word(guess) == True:\n",
    "                print(f' Congratulations! You guessed the item on my desk. The word was {answer.word}!')\n",
    "                break #takes in guess to check letter against word, breaks when everything matches\n",
    "            if guess not in list(answer.word):\n",
    "                tries -= 1\n",
    "                print(f'Nope! Try again. You have {int(tries)} tries remaining!')\n",
    "            if tries == 0:\n",
    "                print(f\"You lose! The word was {answer.word}.\")\n",
    "            \n",
    "                \n",
    "                    \n",
    "            \n",
    "        \n",
    "            \n",
    "\n",
    "         "
   ]
  },
  {
   "cell_type": "code",
   "execution_count": 2,
   "metadata": {},
   "outputs": [
    {
     "name": "stdout",
     "output_type": "stream",
     "text": [
      "Guess a letter to find out what things clutter my desk! \n",
      "_ _ _ _ _\n",
      "Guess a letter! m\n",
      "Nope! Try again. You have 6 tries remaining!\n",
      "_ _ _ _ _\n",
      "Guess a letter! a\n",
      "_ a _ _ _\n",
      "Guess a letter! e\n",
      "Nope! Try again. You have 5 tries remaining!\n",
      "_ a _ _ _\n",
      "Guess a letter! r\n",
      "Nope! Try again. You have 4 tries remaining!\n",
      "_ a _ _ _\n",
      "Guess a letter! p\n",
      "Nope! Try again. You have 3 tries remaining!\n",
      "_ a _ _ _\n",
      "Guess a letter! c\n",
      "Nope! Try again. You have 2 tries remaining!\n",
      "_ a _ _ _\n",
      "Guess a letter! s\n",
      "Nope! Try again. You have 1 tries remaining!\n",
      "_ a _ _ _\n",
      "Guess a letter! b\n",
      "Nope! Try again. You have 0 tries remaining!\n",
      "You lose! The word was lando.\n"
     ]
    }
   ],
   "source": [
    "Game.show_instructions()\n",
    "Game.run()"
   ]
  }
 ],
 "metadata": {
  "kernelspec": {
   "display_name": "Python 3",
   "language": "python",
   "name": "python3"
  },
  "language_info": {
   "codemirror_mode": {
    "name": "ipython",
    "version": 3
   },
   "file_extension": ".py",
   "mimetype": "text/x-python",
   "name": "python",
   "nbconvert_exporter": "python",
   "pygments_lexer": "ipython3",
   "version": "3.8.3"
  }
 },
 "nbformat": 4,
 "nbformat_minor": 4
}
